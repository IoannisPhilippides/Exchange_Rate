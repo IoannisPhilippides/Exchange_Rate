{
 "cells": [
  {
   "cell_type": "markdown",
   "metadata": {},
   "source": [
    "### Get Pound - Eur Exchange rate per day via API"
   ]
  },
  {
   "cell_type": "code",
   "execution_count": 29,
   "metadata": {},
   "outputs": [],
   "source": [
    "import json\n",
    "import requests\n",
    "import datetime"
   ]
  },
  {
   "cell_type": "code",
   "execution_count": 5,
   "metadata": {},
   "outputs": [
    {
     "ename": "KeyError",
     "evalue": "'date'",
     "output_type": "error",
     "traceback": [
      "\u001b[1;31m---------------------------------------------------------------------------\u001b[0m",
      "\u001b[1;31mKeyError\u001b[0m                                  Traceback (most recent call last)",
      "\u001b[1;32md:\\Le Wagon\\Personal_Ongoing_Projects\\Exchange_Rate\\Exchange_Rate\\GBP_EUR.ipynb Cell 3\u001b[0m in \u001b[0;36m<cell line: 6>\u001b[1;34m()\u001b[0m\n\u001b[0;32m      <a href='vscode-notebook-cell:/d%3A/Le%20Wagon/Personal_Ongoing_Projects/Exchange_Rate/Exchange_Rate/GBP_EUR.ipynb#W0sZmlsZQ%3D%3D?line=3'>4</a>\u001b[0m data \u001b[39m=\u001b[39m response\u001b[39m.\u001b[39mtext\n\u001b[0;32m      <a href='vscode-notebook-cell:/d%3A/Le%20Wagon/Personal_Ongoing_Projects/Exchange_Rate/Exchange_Rate/GBP_EUR.ipynb#W0sZmlsZQ%3D%3D?line=4'>5</a>\u001b[0m parsed \u001b[39m=\u001b[39m json\u001b[39m.\u001b[39mloads(data)\n\u001b[1;32m----> <a href='vscode-notebook-cell:/d%3A/Le%20Wagon/Personal_Ongoing_Projects/Exchange_Rate/Exchange_Rate/GBP_EUR.ipynb#W0sZmlsZQ%3D%3D?line=5'>6</a>\u001b[0m date \u001b[39m=\u001b[39m parsed[\u001b[39m\"\u001b[39;49m\u001b[39mdate\u001b[39;49m\u001b[39m\"\u001b[39;49m]\n\u001b[0;32m      <a href='vscode-notebook-cell:/d%3A/Le%20Wagon/Personal_Ongoing_Projects/Exchange_Rate/Exchange_Rate/GBP_EUR.ipynb#W0sZmlsZQ%3D%3D?line=7'>8</a>\u001b[0m gbp_rate \u001b[39m=\u001b[39m parsed[\u001b[39m\"\u001b[39m\u001b[39mrates\u001b[39m\u001b[39m\"\u001b[39m][\u001b[39m\"\u001b[39m\u001b[39mGBP\u001b[39m\u001b[39m\"\u001b[39m]\n\u001b[0;32m      <a href='vscode-notebook-cell:/d%3A/Le%20Wagon/Personal_Ongoing_Projects/Exchange_Rate/Exchange_Rate/GBP_EUR.ipynb#W0sZmlsZQ%3D%3D?line=8'>9</a>\u001b[0m eur_rate \u001b[39m=\u001b[39m parsed[\u001b[39m\"\u001b[39m\u001b[39mrates\u001b[39m\u001b[39m\"\u001b[39m][\u001b[39m\"\u001b[39m\u001b[39mEUR\u001b[39m\u001b[39m\"\u001b[39m]\n",
      "\u001b[1;31mKeyError\u001b[0m: 'date'"
     ]
    }
   ],
   "source": [
    "url = \"https://api.exchangeratesapi.io/latest?symbols=EUR,GBP\"\n",
    "\n",
    "response = requests.get(url)\n",
    "data = response.text\n",
    "parsed = json.loads(data)\n",
    "date = parsed[\"date\"]\n",
    "\n",
    "gbp_rate = parsed[\"rates\"][\"GBP\"]\n",
    "eur_rate = parsed[\"rates\"][\"EUR\"]\n",
    "print(\"On \" + date + \" EUR equals \" + str(gbp_rate) + \" GBP\")\n",
    "print(\"On \" + date + \" EUR equals \" + str(eur_rate) + \" EUR\")\n"
   ]
  },
  {
   "cell_type": "code",
   "execution_count": 32,
   "metadata": {},
   "outputs": [],
   "source": [
    "import requests\n",
    "\n",
    "url = \"https://api.apilayer.com/exchangerates_data/timeseries?start_date=2022-01-01&end_date=2022-10-17\"\n",
    "\n",
    "payload = {}\n",
    "headers= {\n",
    "  \"apikey\": \"ry4IhNUMVLZrO1Jl9ZyT0gtNaJ9cJ8GD\"\n",
    "}\n",
    "\n",
    "response = requests.request(\"GET\", url, headers=headers, data = payload)\n",
    "\n",
    "status_code = response.status_code\n",
    "\n",
    "data = response.text\n",
    "parsed = json.loads(data)\n",
    "\n"
   ]
  },
  {
   "cell_type": "code",
   "execution_count": 33,
   "metadata": {},
   "outputs": [],
   "source": [
    "rate = parsed[\"rates\"][\"2022-01-01\"][\"GBP\"]\n"
   ]
  },
  {
   "cell_type": "code",
   "execution_count": 34,
   "metadata": {},
   "outputs": [
    {
     "data": {
      "text/plain": [
       "0.840369"
      ]
     },
     "execution_count": 34,
     "metadata": {},
     "output_type": "execute_result"
    }
   ],
   "source": [
    "rate"
   ]
  },
  {
   "cell_type": "code",
   "execution_count": 39,
   "metadata": {},
   "outputs": [],
   "source": [
    "start = datetime.date(2022,1,1)\n",
    " \n",
    "# initializing K\n",
    "k = 30\n",
    " \n",
    "res = []\n",
    " \n",
    "for day in range(k):\n",
    "    date = (start + datetime.timedelta(days = day)).isoformat()\n",
    "    res.append(date)\n",
    "     \n",
    "\n",
    "# # printing result\n",
    "# print(\"Next K dates list: \" + str(res))"
   ]
  },
  {
   "cell_type": "code",
   "execution_count": 43,
   "metadata": {},
   "outputs": [
    {
     "ename": "TypeError",
     "evalue": "list indices must be integers or slices, not str",
     "output_type": "error",
     "traceback": [
      "\u001b[1;31m---------------------------------------------------------------------------\u001b[0m",
      "\u001b[1;31mTypeError\u001b[0m                                 Traceback (most recent call last)",
      "\u001b[1;32md:\\Le Wagon\\Personal_Ongoing_Projects\\Exchange_Rate\\Exchange_Rate\\GBP_EUR.ipynb Cell 8\u001b[0m in \u001b[0;36m<cell line: 3>\u001b[1;34m()\u001b[0m\n\u001b[0;32m      <a href='vscode-notebook-cell:/d%3A/Le%20Wagon/Personal_Ongoing_Projects/Exchange_Rate/Exchange_Rate/GBP_EUR.ipynb#X11sZmlsZQ%3D%3D?line=0'>1</a>\u001b[0m rate \u001b[39m=\u001b[39m []\n\u001b[0;32m      <a href='vscode-notebook-cell:/d%3A/Le%20Wagon/Personal_Ongoing_Projects/Exchange_Rate/Exchange_Rate/GBP_EUR.ipynb#X11sZmlsZQ%3D%3D?line=2'>3</a>\u001b[0m \u001b[39mfor\u001b[39;00m i \u001b[39min\u001b[39;00m res:\n\u001b[1;32m----> <a href='vscode-notebook-cell:/d%3A/Le%20Wagon/Personal_Ongoing_Projects/Exchange_Rate/Exchange_Rate/GBP_EUR.ipynb#X11sZmlsZQ%3D%3D?line=3'>4</a>\u001b[0m     rate\u001b[39m.\u001b[39mappend(parsed[\u001b[39m\"\u001b[39m\u001b[39mrates\u001b[39m\u001b[39m\"\u001b[39m][res[i]][\u001b[39m\"\u001b[39m\u001b[39mGBP\u001b[39m\u001b[39m\"\u001b[39m])\n",
      "\u001b[1;31mTypeError\u001b[0m: list indices must be integers or slices, not str"
     ]
    }
   ],
   "source": [
    "rate = []\n",
    "\n",
    "for i in res:\n",
    "    rate.append(parsed[\"rates\"][res[i]][\"GBP\"])"
   ]
  },
  {
   "cell_type": "code",
   "execution_count": null,
   "metadata": {},
   "outputs": [],
   "source": []
  }
 ],
 "metadata": {
  "kernelspec": {
   "display_name": "Python 3.9.12 ('base')",
   "language": "python",
   "name": "python3"
  },
  "language_info": {
   "codemirror_mode": {
    "name": "ipython",
    "version": 3
   },
   "file_extension": ".py",
   "mimetype": "text/x-python",
   "name": "python",
   "nbconvert_exporter": "python",
   "pygments_lexer": "ipython3",
   "version": "3.9.12"
  },
  "orig_nbformat": 4,
  "vscode": {
   "interpreter": {
    "hash": "780058a3d41ad179216605326a7a1f367bb0b3ded43527163dcaceaf3a6f4506"
   }
  }
 },
 "nbformat": 4,
 "nbformat_minor": 2
}
